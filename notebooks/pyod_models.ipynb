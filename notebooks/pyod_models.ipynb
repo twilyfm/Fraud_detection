{
  "cells": [
    {
      "cell_type": "code",
      "execution_count": null,
      "metadata": {
        "cellId": "b4rixbz0t4m9dgcwfyeq",
        "id": "k_NAiHGLIe4i"
      },
      "outputs": [],
      "source": [
        "%pip install category_encoders\n",
        "%pip install PyOD\n",
        "import pandas as pd\n",
        "import numpy as np\n",
        "import random\n",
        "from pyod.models.iforest import IForest\n",
        "from pyod.models.ecod import ECOD\n",
        "from sklearn.model_selection import train_test_split\n",
        "from category_encoders.leave_one_out import LeaveOneOutEncoder\n",
        "from sklearn.metrics import precision_score, recall_score\n",
        "from sklearn.metrics import f1_score, roc_auc_score\n",
        "from nan_filler import FillNan\n",
        "\n",
        "random.seed(123)"
      ]
    },
    {
      "cell_type": "markdown",
      "metadata": {
        "cellId": "vwfztpb52regzr5yf895ov",
        "execution_id": "48188edb-6f53-4f24-8696-3b247c6c8b2b",
        "id": "03q-rwVYbiEz"
      },
      "source": [
        "###Загрузка данных"
      ]
    },
    {
      "cell_type": "code",
      "execution_count": null,
      "metadata": {
        "cellId": "50mepdf4i39rmidxk3dx3h",
        "id": "7JfvEJQEblJc"
      },
      "outputs": [],
      "source": [
        "df = pd.read_parquet('merge_df.parquet')\n",
        "df = df.drop('TransactionID', axis=1)\n",
        "\n",
        "# делим данные на трейн, тест\n",
        "X_train, X_test, y_train, y_test = train_test_split(df.drop('isFraud', axis=1), df['isFraud'], test_size=0.3, random_state=123)\n",
        "\n",
        "# заполняем пропуски\n",
        "filler = FillNan(num_filler=\"median\", cat_filler=\"constant\", drop_highly_missed=True)\n",
        "\n",
        "filler.fit(X_train)\n",
        "X_train = filler.transform(X_train)\n",
        "X_test = filler.transform(X_test)\n",
        "\n",
        "# создаем валидационную выборку\n",
        "X_train, X_val, y_train, y_val = train_test_split(X_train, y_train, test_size=0.3, random_state=123)"
      ]
    },
    {
      "cell_type": "markdown",
      "metadata": {
        "cellId": "ae30u1d162m85r3t7vpxyu",
        "execution_id": "65b20339-3f40-4bd0-9709-c5477b982629",
        "id": "43XKsLqb6Dyb"
      },
      "source": [
        "Обработываем категориальные признаки"
      ]
    },
    {
      "cell_type": "code",
      "execution_count": null,
      "metadata": {
        "cellId": "o5p0zwqxh1abh9f8utjaap",
        "id": "VMxJHBjP_1jm"
      },
      "outputs": [],
      "source": [
        "categor_cols = []\n",
        "\n",
        "for col in X_train.columns:\n",
        "  if X_train[col].dtypes == 'O':\n",
        "    categor_cols.append(col)"
      ]
    },
    {
      "cell_type": "code",
      "execution_count": null,
      "metadata": {
        "cellId": "bjiwu6oljwngs5y2ff327s",
        "id": "euQsV2BwKAvG"
      },
      "outputs": [],
      "source": [
        "loo = LeaveOneOutEncoder(cols=categor_cols, sigma = 0.48)\n",
        "\n",
        "X_train = loo.fit_transform(X_train, y_train)\n",
        "X_val = loo.transform(X_val)\n",
        "X_test = loo.transform(X_test)"
      ]
    },
    {
      "cell_type": "markdown",
      "metadata": {
        "cellId": "7is4qkgo28j3zliy8hgni4",
        "execution_id": "2fb74c9b-cb32-49a9-85f8-001939abda4e",
        "id": "WvS8BmL8NtG6"
      },
      "source": [
        "###Вероятностные модели"
      ]
    },
    {
      "cell_type": "markdown",
      "source": [
        "* ECOD - Обнаружение выбросов при помощи эмпирической функции распределения и оценки вероятности нахождения конкретных данных в одном их хвостов распределения."
      ],
      "metadata": {
        "id": "lb0CQMNkODn8"
      }
    },
    {
      "cell_type": "code",
      "execution_count": null,
      "metadata": {
        "cellId": "0tcukc4pw4sywbi59qjy3l",
        "id": "7fg0sIVGNtG7",
        "outputId": "6e3f5a0a-1d29-4008-a5f7-f46cf23e0738"
      },
      "outputs": [
        {
          "name": "stderr",
          "output_type": "stream",
          "text": [
            "[Parallel(n_jobs=4)]: Using backend LokyBackend with 4 concurrent workers.\n",
            "[Parallel(n_jobs=4)]: Done   2 out of   4 | elapsed:   14.3s remaining:   14.3s\n",
            "[Parallel(n_jobs=4)]: Done   4 out of   4 | elapsed:   16.7s finished\n",
            "[Parallel(n_jobs=4)]: Using backend LokyBackend with 4 concurrent workers.\n",
            "[Parallel(n_jobs=4)]: Done   2 out of   4 | elapsed:   17.0s remaining:   17.0s\n",
            "[Parallel(n_jobs=4)]: Done   4 out of   4 | elapsed:   20.5s finished\n",
            "[Parallel(n_jobs=4)]: Using backend LokyBackend with 4 concurrent workers.\n",
            "[Parallel(n_jobs=4)]: Done   2 out of   4 | elapsed:   16.7s remaining:   16.7s\n",
            "[Parallel(n_jobs=4)]: Done   4 out of   4 | elapsed:   20.2s finished\n"
          ]
        }
      ],
      "source": [
        "ecod = ECOD(contamination=0.03, n_jobs=-1)\n",
        "ecod.fit(X_train)\n",
        "\n",
        "ecod_pred = ecod.predict(X_val.values)\n",
        "ecod_pred_prob = ecod.decision_function(X_val.values)"
      ]
    },
    {
      "cell_type": "code",
      "execution_count": null,
      "metadata": {
        "cellId": "5yzraaa4et6lkwtma8kkn9",
        "id": "9aAN1MDUNtG8",
        "outputId": "2ac727f3-cc3f-4687-9f50-37f4762ab3e7"
      },
      "outputs": [
        {
          "name": "stdout",
          "output_type": "stream",
          "text": [
            "* ROC-AUC: 0.7834893546677868\n",
            "* Precision: 0.27706812652068125\n",
            "* Recall: 0.21475719000471477\n",
            "* F1: 0.24196547144754316\n"
          ]
        }
      ],
      "source": [
        "print('* ROC-AUC:', roc_auc_score(y_val, ecod_pred_prob))\n",
        "print('* Precision:', precision_score(y_val, ecod_pred))\n",
        "print('* Recall:', recall_score(y_val, ecod_pred))\n",
        "print('* F1:', f1_score(y_val, ecod_pred))"
      ]
    },
    {
      "cell_type": "markdown",
      "source": [
        "* COPOD - выявление аномалий при помощи копулу - многомерной функции распределения на основании которой моделируются зависимости данных"
      ],
      "metadata": {
        "id": "fuvqEYFIQ2NP"
      }
    },
    {
      "cell_type": "code",
      "execution_count": null,
      "metadata": {
        "cellId": "7ihzdzkk5ayf1tkizjamn6",
        "id": "FS1q3TPrNtG-",
        "outputId": "e37273e2-f0da-4849-a4d9-4c7feba35b50"
      },
      "outputs": [
        {
          "name": "stderr",
          "output_type": "stream",
          "text": [
            "[Parallel(n_jobs=4)]: Using backend LokyBackend with 4 concurrent workers.\n",
            "[Parallel(n_jobs=4)]: Done   2 out of   4 | elapsed:   14.6s remaining:   14.6s\n",
            "[Parallel(n_jobs=4)]: Done   4 out of   4 | elapsed:   17.0s finished\n",
            "[Parallel(n_jobs=4)]: Using backend LokyBackend with 4 concurrent workers.\n",
            "[Parallel(n_jobs=4)]: Done   2 out of   4 | elapsed:   18.0s remaining:   18.0s\n",
            "[Parallel(n_jobs=4)]: Done   4 out of   4 | elapsed:   21.5s finished\n",
            "[Parallel(n_jobs=4)]: Using backend LokyBackend with 4 concurrent workers.\n",
            "[Parallel(n_jobs=4)]: Done   2 out of   4 | elapsed:   17.6s remaining:   17.6s\n",
            "[Parallel(n_jobs=4)]: Done   4 out of   4 | elapsed:   21.1s finished\n"
          ]
        }
      ],
      "source": [
        "from pyod.models.copod import COPOD\n",
        "\n",
        "copod = COPOD(contamination=0.03, n_jobs=-1)\n",
        "copod.fit(X_train)\n",
        "\n",
        "ecod_pred = copod.predict(X_val.values)\n",
        "ecod_pred_prob = copod.decision_function(X_val.values)"
      ]
    },
    {
      "cell_type": "code",
      "execution_count": null,
      "metadata": {
        "cellId": "sqera2sgnegcm3mdcw04fh",
        "id": "LlneY6dQNtHA",
        "outputId": "08336b15-34d2-4b90-af48-f0b44d636e03"
      },
      "outputs": [
        {
          "name": "stdout",
          "output_type": "stream",
          "text": [
            "* ROC-AUC: 0.7824193053080911\n",
            "* Precision: 0.2791456541085731\n",
            "* Recall: 0.22182932578972184\n",
            "* F1: 0.2472087219230264\n"
          ]
        }
      ],
      "source": [
        "print('* ROC-AUC:', roc_auc_score(y_val, ecod_pred_prob))\n",
        "print('* Precision:', precision_score(y_val, ecod_pred))\n",
        "print('* Recall:', recall_score(y_val, ecod_pred))\n",
        "print('* F1:', f1_score(y_val, ecod_pred))"
      ]
    },
    {
      "cell_type": "markdown",
      "metadata": {
        "cellId": "a3ewk178wxtllya5kbvys",
        "id": "3XHk8sY0NtHB"
      },
      "source": [
        "###Модели, основанные на оценки плотностей"
      ]
    },
    {
      "cell_type": "markdown",
      "source": [
        "* HBOS - выявление аномалий при помощи построения гистограмм на основании плотности каждого признака"
      ],
      "metadata": {
        "id": "8-dB_L8nTHzX"
      }
    },
    {
      "cell_type": "code",
      "execution_count": null,
      "metadata": {
        "cellId": "1agl1k616z9nrx99kpo7i",
        "id": "WHATTN4RNtHC"
      },
      "outputs": [],
      "source": [
        "#!c1.8\n",
        "from pyod.models.hbos import HBOS\n",
        "\n",
        "svm = HBOS(contamination=0.03)\n",
        "svm.fit(X_train)\n",
        "\n",
        "svm_pred = svm.predict(X_val.values)\n",
        "svm_pred_prob = svm.decision_function(X_val.values)"
      ]
    },
    {
      "cell_type": "code",
      "execution_count": null,
      "metadata": {
        "cellId": "g7s4sbyzxndzfmjb2hpd8q",
        "id": "W4mvdIklNtHC",
        "outputId": "fc6684fd-5786-41fd-a73b-b327f8727e08"
      },
      "outputs": [
        {
          "name": "stdout",
          "output_type": "stream",
          "text": [
            "* ROC-AUC: 0.6979634862344064\n",
            "* Precision: 0.2823090178058587\n",
            "* Recall: 0.23173031588873172\n",
            "* F1: 0.2545313309166235\n"
          ]
        }
      ],
      "source": [
        "#!c1.8\n",
        "print('* ROC-AUC:', roc_auc_score(y_val, svm_pred_prob))\n",
        "print('* Precision:', precision_score(y_val, svm_pred))\n",
        "print('* Recall:', recall_score(y_val, svm_pred))\n",
        "print('* F1:', f1_score(y_val, svm_pred))"
      ]
    },
    {
      "cell_type": "markdown",
      "source": [
        "* LOF - метод локального уровеня выброса - оценка выбросов при помощи сравнения плотностей посчитанных как расстояния до k ближайших соседей."
      ],
      "metadata": {
        "id": "khygARpsTqTs"
      }
    },
    {
      "cell_type": "code",
      "execution_count": null,
      "metadata": {
        "cellId": "b8iefzd15kim2e8fzvlcm",
        "id": "iKfqmoo9NtHH"
      },
      "outputs": [],
      "source": [
        "#!c1.8\n",
        "from pyod.models.lof import LOF\n",
        "\n",
        "svm = LOF(contamination=0.03, n_jobs=-1)\n",
        "svm.fit(X_train)\n",
        "\n",
        "svm_pred = svm.predict(X_val.values)\n",
        "svm_pred_prob = svm.decision_function(X_val.values)\n"
      ]
    },
    {
      "cell_type": "code",
      "execution_count": null,
      "metadata": {
        "cellId": "69bzl5kd855vgy1ty4gsxl",
        "id": "F4Jo9YjKNtHI",
        "outputId": "ecf233ce-2477-4aa5-a087-96899fae82c8"
      },
      "outputs": [
        {
          "name": "stdout",
          "output_type": "stream",
          "text": [
            "* ROC-AUC: 0.5998727379286085\n",
            "* Precision: 0.09729295095148753\n",
            "* Recall: 0.08557284299858557\n",
            "* F1: 0.09105731844976796\n"
          ]
        }
      ],
      "source": [
        "#!c1.8\n",
        "print('* ROC-AUC:', roc_auc_score(y_val, svm_pred_prob))\n",
        "print('* Precision:', precision_score(y_val, svm_pred))\n",
        "print('* Recall:', recall_score(y_val, svm_pred))\n",
        "print('* F1:', f1_score(y_val, svm_pred))"
      ]
    },
    {
      "cell_type": "markdown",
      "metadata": {
        "cellId": "j86bg3hfrol9r0h3ongf",
        "id": "9Q3mWr2bNtHK"
      },
      "source": [
        "###Линейные модели"
      ]
    },
    {
      "cell_type": "markdown",
      "source": [
        "* PCA - использует нормализованную ошибку восстановления в качестве оценки аномалии."
      ],
      "metadata": {
        "id": "R5W16ui4Vzre"
      }
    },
    {
      "cell_type": "code",
      "execution_count": null,
      "metadata": {
        "cellId": "u1wyizvpklg17u0i4f45um",
        "id": "iQcpPLXlNtHK"
      },
      "outputs": [],
      "source": [
        "from pyod.models.pca import PCA\n",
        "\n",
        "svm = PCA(contamination=0.03)\n",
        "svm.fit(X_train)\n",
        "\n",
        "svm_pred = svm.predict(X_val.values)\n",
        "svm_pred_prob = svm.decision_function(X_val.values)"
      ]
    },
    {
      "cell_type": "code",
      "execution_count": null,
      "metadata": {
        "cellId": "dw8rnd1xgicoslsb5nvhi",
        "id": "r1spPbScNtHK",
        "outputId": "4559fb36-eeae-4709-cb35-9f518bf7a97a"
      },
      "outputs": [
        {
          "name": "stdout",
          "output_type": "stream",
          "text": [
            "* ROC-AUC: 0.7583015579672098\n",
            "* Precision: 0.25338491295938104\n",
            "* Recall: 0.21617161716171618\n",
            "* F1: 0.23330365093499555\n"
          ]
        }
      ],
      "source": [
        "print('* ROC-AUC:', roc_auc_score(y_val, svm_pred_prob))\n",
        "print('* Precision:', precision_score(y_val, svm_pred))\n",
        "print('* Recall:', recall_score(y_val, svm_pred))\n",
        "print('* F1:', f1_score(y_val, svm_pred))"
      ]
    },
    {
      "cell_type": "markdown",
      "metadata": {
        "cellId": "xqfq5qmoc7mae4v2u414",
        "execution_id": "6f939fb8-b3e0-42ef-9490-bbd1c67769c4",
        "id": "8VhdujYsNtHL"
      },
      "source": [
        "###Ансамбли"
      ]
    },
    {
      "cell_type": "markdown",
      "source": [
        "* Isolation forest - выявление аномалий при помощи оценки средней глубины листа для кажд"
      ],
      "metadata": {
        "id": "t2ZT0ybGW3Ei"
      }
    },
    {
      "cell_type": "code",
      "execution_count": null,
      "metadata": {
        "cellId": "r8jv60lijfemxygxj7fnul",
        "id": "AC4Ps_IwNtHL"
      },
      "outputs": [],
      "source": [
        "ecodforest = IForest()\n",
        "forest.fit(X_train.values)\n",
        "\n",
        "forest_pred = forest.predict(X_val.values)\n",
        "forest_pred_prob = forest.decision_function(X_val.values)"
      ]
    },
    {
      "cell_type": "code",
      "execution_count": null,
      "metadata": {
        "cellId": "alxtnv7yiqe3d5d3ydlivs",
        "id": "xP3uQkXANtHM",
        "outputId": "dae9897a-0edc-4272-c1a6-c19c4b9517c6"
      },
      "outputs": [
        {
          "name": "stdout",
          "output_type": "stream",
          "text": [
            "* ROC-AUC: 0.7686692872594973\n",
            "* Precision: 0.16354479590033574\n",
            "* Recall: 0.4363507779349364\n",
            "* F1: 0.23791773778920308\n"
          ]
        }
      ],
      "source": [
        "print('* ROC-AUC:', roc_auc_score(y_val, forest_pred_prob))\n",
        "print('* Precision:', precision_score(y_val, forest_pred))\n",
        "print('* Recall:', recall_score(y_val, forest_pred))\n",
        "print('* F1:', f1_score(y_val, forest_pred))"
      ]
    },
    {
      "cell_type": "markdown",
      "metadata": {
        "cellId": "b85v6ric1twjq6d3k62jc",
        "id": "N9iS35Tjzo-2"
      },
      "source": [
        "### Результаты\n",
        "\n",
        " Model | ROC-AUC | F1-score |precision_score | recall_score\n",
        " --- | --- | --- | ---| ---\n",
        " ECOD | 0.78 | 0.24 | 0.28 | 0.21\n",
        " COPOD | 0.78 | 0.24 | 0.28 | 0.22\n",
        " HBOS | 0.70 | 0.25 | 0.28 | 0.23\n",
        " LOF | 0.60 | 0.09 | 0.09 | 0.08\n",
        " PCA | 0.75 | 0.23 | 0.25 | 0.21\n",
        " Isolation forest | 0.76 | 0.24 | 0.16 | 0.44"
      ]
    },
    {
      "cell_type": "code",
      "source": [],
      "metadata": {
        "id": "LYUVuzaAWOfY"
      },
      "execution_count": null,
      "outputs": []
    }
  ],
  "metadata": {
    "colab": {
      "provenance": []
    },
    "language_info": {
      "codemirror_mode": {
        "name": "ipython",
        "version": 3
      },
      "file_extension": ".py",
      "mimetype": "text/x-python",
      "name": "python",
      "nbconvert_exporter": "python",
      "pygments_lexer": "ipython3",
      "version": "3.7.7"
    },
    "notebookId": "3f4b812c-b44e-42d0-84ea-35481724a9b8",
    "notebookPath": "Nastya.ipynb"
  },
  "nbformat": 4,
  "nbformat_minor": 0
}